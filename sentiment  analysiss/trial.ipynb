{
 "cells": [
  {
   "cell_type": "code",
   "execution_count": 1,
   "metadata": {},
   "outputs": [],
   "source": [
    "from ntscraper import Nitter\n",
    "import  pandas as pd\n"
   ]
  },
  {
   "cell_type": "code",
   "execution_count": 2,
   "metadata": {},
   "outputs": [
    {
     "name": "stderr",
     "output_type": "stream",
     "text": [
      "Testing instances: 100%|██████████| 77/77 [02:29<00:00,  1.94s/it]\n"
     ]
    }
   ],
   "source": [
    "scraper = Nitter()"
   ]
  },
  {
   "cell_type": "code",
   "execution_count": 4,
   "metadata": {},
   "outputs": [
    {
     "name": "stdout",
     "output_type": "stream",
     "text": [
      "19-Feb-24 21:01:47 - No instance specified, using random instance https://nitter.privacydev.net\n",
      "19-Feb-24 21:02:00 - Current stats for imVkohli: 5 tweets, 0 threads...\n",
      "{'tweets': [{'link': 'https://twitter.com/imVkohli/status/1748941385972293903#m', 'text': \"Research reveals that O’cean Fruit Water has a loyal fan base. Shockingly, not because of me, but thanks to its delicious flavors, B-Vitamins & minerals. Must admit, I'm a big fan too! Use VK10 for 10% off @ oceanbeverages.in Available @ retail stores @OceanBeverages #ad\", 'user': {'name': 'Virat Kohli', 'username': '@imVkohli', 'profile_id': '1562753500726976514', 'avatar': 'https://pbs.twimg.com/profile_images/1562753500726976514/EPSUNyR3_bigger.jpg'}, 'date': 'Jan 21, 2024 · 5:31 AM UTC', 'is-retweet': False, 'is-pinned': False, 'external-link': '', 'replying-to': [], 'quoted-post': {}, 'stats': {'comments': 1450, 'retweets': 1379, 'quotes': 77, 'likes': 21368}, 'pictures': [], 'videos': ['https://video.twimg.com/amplify_video/1748941001413267456/vid/avc1/720x720/UFlm9EqJPPtDgMlv.mp4?tag=14'], 'gifs': []}, {'link': 'https://twitter.com/imVkohli/status/1745664399191273793#m', 'text': 'Rewinding to the best bits — From Bollywood Dialogues to deciphering the cool kids’ lingo and so much more. Step into my Unplugged World! 🎬  Watch the full video and all episodes here 🔗bit.ly/3Sdd4DG @StayWrogn #ad', 'user': {'name': 'Virat Kohli', 'username': '@imVkohli', 'profile_id': '1562753500726976514', 'avatar': 'https://pbs.twimg.com/profile_images/1562753500726976514/EPSUNyR3_bigger.jpg'}, 'date': 'Jan 12, 2024 · 4:30 AM UTC', 'is-retweet': False, 'is-pinned': False, 'external-link': '', 'replying-to': [], 'quoted-post': {}, 'stats': {'comments': 886, 'retweets': 1410, 'quotes': 49, 'likes': 19463}, 'pictures': [], 'videos': ['https://video.twimg.com/amplify_video/1745311412296077312/vid/avc1/1280x720/lX2mfnN4GODbqvk5.mp4?tag=14'], 'gifs': []}, {'link': 'https://twitter.com/imVkohli/status/1745000022838497345#m', 'text': 'Kickstarting 2024 at the Baugh!   Love my new holiday home at Avās Living, Alibaugh. Super excited to give you a sneak peak into my oasis. . . #avasxvirat #inhabityourbestself #alibaug #baughofwonders #luxuryvillas #avaswellness #ad @AvasWellness', 'user': {'name': 'Virat Kohli', 'username': '@imVkohli', 'profile_id': '1562753500726976514', 'avatar': 'https://pbs.twimg.com/profile_images/1562753500726976514/EPSUNyR3_bigger.jpg'}, 'date': 'Jan 10, 2024 · 8:30 AM UTC', 'is-retweet': False, 'is-pinned': False, 'external-link': '', 'replying-to': [], 'quoted-post': {}, 'stats': {'comments': 918, 'retweets': 2480, 'quotes': 68, 'likes': 33226}, 'pictures': [], 'videos': ['https://video.twimg.com/amplify_video/1744993906578849792/vid/avc1/1280x720/OmjnQwSmlUhfS3uB.mp4?tag=14'], 'gifs': []}, {'link': 'https://twitter.com/imVkohli/status/1736612252147450331#m', 'text': \"#one8CommuneBlr welcomes you to a riotous launch! Laugh endlessly with @randomchikibum and me. Discover Bengaluru's newest hotspot. Catch the full video on one8 commune's YouTube. Reserve: +918748881818 | +918548881818 #Ad\", 'user': {'name': 'Virat Kohli', 'username': '@imVkohli', 'profile_id': '1562753500726976514', 'avatar': 'https://pbs.twimg.com/profile_images/1562753500726976514/EPSUNyR3_bigger.jpg'}, 'date': 'Dec 18, 2023 · 5:00 AM UTC', 'is-retweet': False, 'is-pinned': False, 'external-link': '', 'replying-to': [], 'quoted-post': {}, 'stats': {'comments': 1284, 'retweets': 1843, 'quotes': 53, 'likes': 24793}, 'pictures': [], 'videos': ['https://video.twimg.com/amplify_video/1736428489946050560/vid/avc1/720x720/P3MReOFp6DWpKdHE.mp4?tag=14'], 'gifs': []}, {'link': 'https://twitter.com/imVkohli/status/1734800313255899518#m', 'text': 'The O’cean Energy Drink sustainable edition is your full-power body recharge from plant-based caffeine.The can is made from at least 70% recycled aluminium that can be recycled forever. Get 50% off at oceanbeverages.in for Rs.65. @BallCorpHQ @oceanbeverages #EnergyDrink #ad', 'user': {'name': 'Virat Kohli', 'username': '@imVkohli', 'profile_id': '1562753500726976514', 'avatar': 'https://pbs.twimg.com/profile_images/1562753500726976514/EPSUNyR3_bigger.jpg'}, 'date': 'Dec 13, 2023 · 5:00 AM UTC', 'is-retweet': False, 'is-pinned': False, 'external-link': '', 'replying-to': [], 'quoted-post': {}, 'stats': {'comments': 782, 'retweets': 1338, 'quotes': 43, 'likes': 18274}, 'pictures': [], 'videos': ['https://video.twimg.com/amplify_video/1734581638368210944/vid/avc1/720x720/5o4fus3OQvcT5TEI.mp4?tag=14'], 'gifs': []}], 'threads': []}\n"
     ]
    }
   ],
   "source": [
    "tweets = scraper.get_tweets('imVkohli', mode='user',number=5)\n",
    "print(tweets)"
   ]
  },
  {
   "cell_type": "code",
   "execution_count": 7,
   "metadata": {},
   "outputs": [
    {
     "name": "stdout",
     "output_type": "stream",
     "text": [
      "Research reveals that O’cean Fruit Water has a loyal fan base. Shockingly, not because of me, but thanks to its delicious flavors, B-Vitamins & minerals. Must admit, I'm a big fan too! Use VK10 for 10% off @ oceanbeverages.in Available @ retail stores @OceanBeverages #ad\n",
      "-------new tweet-------\n",
      "Rewinding to the best bits — From Bollywood Dialogues to deciphering the cool kids’ lingo and so much more. Step into my Unplugged World! 🎬  Watch the full video and all episodes here 🔗bit.ly/3Sdd4DG @StayWrogn #ad\n",
      "-------new tweet-------\n",
      "Kickstarting 2024 at the Baugh!   Love my new holiday home at Avās Living, Alibaugh. Super excited to give you a sneak peak into my oasis. . . #avasxvirat #inhabityourbestself #alibaug #baughofwonders #luxuryvillas #avaswellness #ad @AvasWellness\n",
      "-------new tweet-------\n",
      "#one8CommuneBlr welcomes you to a riotous launch! Laugh endlessly with @randomchikibum and me. Discover Bengaluru's newest hotspot. Catch the full video on one8 commune's YouTube. Reserve: +918748881818 | +918548881818 #Ad\n",
      "-------new tweet-------\n",
      "The O’cean Energy Drink sustainable edition is your full-power body recharge from plant-based caffeine.The can is made from at least 70% recycled aluminium that can be recycled forever. Get 50% off at oceanbeverages.in for Rs.65. @BallCorpHQ @oceanbeverages #EnergyDrink #ad\n",
      "-------new tweet-------\n"
     ]
    }
   ],
   "source": [
    "for tweet in tweets[\"tweets\"]:\n",
    "    print(tweet['text'])\n",
    "    print(\"-------new tweet-------\")"
   ]
  }
 ],
 "metadata": {
  "kernelspec": {
   "display_name": "Python 3.11.3 64-bit",
   "language": "python",
   "name": "python3"
  },
  "language_info": {
   "codemirror_mode": {
    "name": "ipython",
    "version": 3
   },
   "file_extension": ".py",
   "mimetype": "text/x-python",
   "name": "python",
   "nbconvert_exporter": "python",
   "pygments_lexer": "ipython3",
   "version": "3.11.3"
  },
  "orig_nbformat": 4,
  "vscode": {
   "interpreter": {
    "hash": "25fe6457d8a8cad1dcc4a5461cbab25919fcb0fef12527d211526cbdb48bdf61"
   }
  }
 },
 "nbformat": 4,
 "nbformat_minor": 2
}
